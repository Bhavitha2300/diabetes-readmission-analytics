{
 "cells": [
  {
   "cell_type": "code",
   "execution_count": null,
   "id": "cc26077c",
   "metadata": {
    "vscode": {
     "languageId": "plaintext"
    }
   },
   "outputs": [],
   "source": [
    "import pandas as pandas\n",
    "import matplotlib.pyplot as plt \n",
    "import seaborn as sns\n",
    "\n",
    "# load cleaned dataset\n",
    "df = pd.read_csv('/Users/bhavithaasam/Desktop/Projects/diabetes_sql_project/data/diabetic_data_cleaned.csv')\n",
    "\n",
    "#preview\n",
    "df.head()"
   ]
  },
  {
   "cell_type": "code",
   "execution_count": null,
   "id": "47317676",
   "metadata": {
    "vscode": {
     "languageId": "plaintext"
    }
   },
   "outputs": [],
   "source": []
  }
 ],
 "metadata": {
  "language_info": {
   "name": "python"
  }
 },
 "nbformat": 4,
 "nbformat_minor": 5
}
